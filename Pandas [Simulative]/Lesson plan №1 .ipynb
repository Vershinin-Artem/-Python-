{
 "cells": [
  {
   "cell_type": "markdown",
   "id": "4c3bc2c3-29a7-43a7-a84e-1edf40a7f9c0",
   "metadata": {},
   "source": [
    "# 1. Обработка данных"
   ]
  },
  {
   "cell_type": "markdown",
   "id": "be111b8a-b4ed-424c-9472-b8e7a512fa01",
   "metadata": {},
   "source": [
    "# 1.1 Загрузка данных "
   ]
  },
  {
   "cell_type": "code",
   "execution_count": 184,
   "id": "1c9a07ac-cf1d-4f1b-81aa-c2577f919056",
   "metadata": {},
   "outputs": [],
   "source": [
    "import pandas as pd"
   ]
  },
  {
   "cell_type": "code",
   "execution_count": 185,
   "id": "8ae017fa-391c-4ccc-8b46-c76cad2c308b",
   "metadata": {},
   "outputs": [
    {
     "data": {
      "text/plain": [
       "(4462, 18)"
      ]
     },
     "execution_count": 185,
     "metadata": {},
     "output_type": "execute_result"
    }
   ],
   "source": [
    "df.shape"
   ]
  },
  {
   "cell_type": "code",
   "execution_count": 186,
   "id": "f71bf877-11d4-4163-948b-842222d9f81b",
   "metadata": {},
   "outputs": [],
   "source": [
    "pd.set_option('display.float_format','{:2f}'.format) # придает числовому значению отображаемому в научной записи читаемый вид с двумя заками после запятой"
   ]
  },
  {
   "cell_type": "code",
   "execution_count": 187,
   "id": "e28528fc-4055-41bd-8004-830ceae21405",
   "metadata": {},
   "outputs": [
    {
     "data": {
      "text/html": [
       "<div>\n",
       "<style scoped>\n",
       "    .dataframe tbody tr th:only-of-type {\n",
       "        vertical-align: middle;\n",
       "    }\n",
       "\n",
       "    .dataframe tbody tr th {\n",
       "        vertical-align: top;\n",
       "    }\n",
       "\n",
       "    .dataframe thead th {\n",
       "        text-align: right;\n",
       "    }\n",
       "</style>\n",
       "<table border=\"1\" class=\"dataframe\">\n",
       "  <thead>\n",
       "    <tr style=\"text-align: right;\">\n",
       "      <th></th>\n",
       "      <th>DR_Dat</th>\n",
       "      <th>DR_Tim</th>\n",
       "      <th>DR_NChk</th>\n",
       "      <th>DR_NDoc</th>\n",
       "      <th>DR_Apt</th>\n",
       "      <th>DR_Kkm</th>\n",
       "      <th>DR_TDoc</th>\n",
       "      <th>DR_TPay</th>\n",
       "      <th>DR_CDrugs</th>\n",
       "      <th>DR_NDrugs</th>\n",
       "      <th>DR_Suppl</th>\n",
       "      <th>DR_Prod</th>\n",
       "      <th>DR_Kol</th>\n",
       "      <th>DR_CZak</th>\n",
       "      <th>DR_CRoz</th>\n",
       "      <th>DR_SDisc</th>\n",
       "      <th>DR_CDisc</th>\n",
       "      <th>DR_BCDisc</th>\n",
       "      <th>DR_TabEmpl</th>\n",
       "      <th>DR_VZak</th>\n",
       "      <th>DR_Pos</th>\n",
       "    </tr>\n",
       "  </thead>\n",
       "  <tbody>\n",
       "    <tr>\n",
       "      <th>0</th>\n",
       "      <td>2022-08-11</td>\n",
       "      <td>10:15:35</td>\n",
       "      <td>2173</td>\n",
       "      <td>2004598</td>\n",
       "      <td>2</td>\n",
       "      <td>22577</td>\n",
       "      <td>Розничная реализация</td>\n",
       "      <td>18</td>\n",
       "      <td>45399</td>\n",
       "      <td>ЦИПРОЛЕТ 3МГ/МЛ. 5МЛ. №1 ГЛ.КАПЛИ ФЛ./КАП. /Д-...</td>\n",
       "      <td>Катрен г.Химки</td>\n",
       "      <td>Д-р Редди с Лабораторис Лтд / Dr.REDDY's</td>\n",
       "      <td>1.000000</td>\n",
       "      <td>41.080000</td>\n",
       "      <td>51.000000</td>\n",
       "      <td>12.000000</td>\n",
       "      <td>925.000000</td>\n",
       "      <td>200000000492.000000</td>\n",
       "      <td>205</td>\n",
       "      <td>1</td>\n",
       "      <td>1.000000</td>\n",
       "    </tr>\n",
       "    <tr>\n",
       "      <th>1</th>\n",
       "      <td>2022-08-11</td>\n",
       "      <td>10:27:46</td>\n",
       "      <td>2174</td>\n",
       "      <td>2004598</td>\n",
       "      <td>2</td>\n",
       "      <td>22577</td>\n",
       "      <td>Розничная реализация</td>\n",
       "      <td>15</td>\n",
       "      <td>261519</td>\n",
       "      <td>ПЕРЕКИСЬ ВОДОРОДА 3% 100МЛ. №40 Р-Р ФЛ.</td>\n",
       "      <td>Катрен г.Химки</td>\n",
       "      <td>ФЛОРА КАВКАЗА ОАО</td>\n",
       "      <td>1.000000</td>\n",
       "      <td>18.610000</td>\n",
       "      <td>31.000000</td>\n",
       "      <td>3.000000</td>\n",
       "      <td>9.000000</td>\n",
       "      <td>200010010204.000000</td>\n",
       "      <td>205</td>\n",
       "      <td>1</td>\n",
       "      <td>1.000000</td>\n",
       "    </tr>\n",
       "    <tr>\n",
       "      <th>2</th>\n",
       "      <td>2022-08-11</td>\n",
       "      <td>10:27:46</td>\n",
       "      <td>2174</td>\n",
       "      <td>2004598</td>\n",
       "      <td>2</td>\n",
       "      <td>22577</td>\n",
       "      <td>Розничная реализация</td>\n",
       "      <td>15</td>\n",
       "      <td>460864</td>\n",
       "      <td>СОФЬЯ ГЕЛЬ Д/НОГ ВЕНОТОНИЗ. ТРОКСЕРУТИН ФОРТЕ ...</td>\n",
       "      <td>Катрен г.Химки</td>\n",
       "      <td>КОРОЛЕВФАРМ ООО</td>\n",
       "      <td>1.000000</td>\n",
       "      <td>132.690000</td>\n",
       "      <td>209.000000</td>\n",
       "      <td>20.000000</td>\n",
       "      <td>9.000000</td>\n",
       "      <td>200010010204.000000</td>\n",
       "      <td>205</td>\n",
       "      <td>1</td>\n",
       "      <td>2.000000</td>\n",
       "    </tr>\n",
       "  </tbody>\n",
       "</table>\n",
       "</div>"
      ],
      "text/plain": [
       "       DR_Dat    DR_Tim  DR_NChk  DR_NDoc  DR_Apt  DR_Kkm  \\\n",
       "0  2022-08-11  10:15:35     2173  2004598       2   22577   \n",
       "1  2022-08-11  10:27:46     2174  2004598       2   22577   \n",
       "2  2022-08-11  10:27:46     2174  2004598       2   22577   \n",
       "\n",
       "                DR_TDoc  DR_TPay  DR_CDrugs  \\\n",
       "0  Розничная реализация       18      45399   \n",
       "1  Розничная реализация       15     261519   \n",
       "2  Розничная реализация       15     460864   \n",
       "\n",
       "                                           DR_NDrugs        DR_Suppl  \\\n",
       "0  ЦИПРОЛЕТ 3МГ/МЛ. 5МЛ. №1 ГЛ.КАПЛИ ФЛ./КАП. /Д-...  Катрен г.Химки   \n",
       "1            ПЕРЕКИСЬ ВОДОРОДА 3% 100МЛ. №40 Р-Р ФЛ.  Катрен г.Химки   \n",
       "2  СОФЬЯ ГЕЛЬ Д/НОГ ВЕНОТОНИЗ. ТРОКСЕРУТИН ФОРТЕ ...  Катрен г.Химки   \n",
       "\n",
       "                                    DR_Prod   DR_Kol    DR_CZak    DR_CRoz  \\\n",
       "0  Д-р Редди с Лабораторис Лтд / Dr.REDDY's 1.000000  41.080000  51.000000   \n",
       "1                         ФЛОРА КАВКАЗА ОАО 1.000000  18.610000  31.000000   \n",
       "2                           КОРОЛЕВФАРМ ООО 1.000000 132.690000 209.000000   \n",
       "\n",
       "   DR_SDisc   DR_CDisc           DR_BCDisc  DR_TabEmpl  DR_VZak   DR_Pos  \n",
       "0 12.000000 925.000000 200000000492.000000         205        1 1.000000  \n",
       "1  3.000000   9.000000 200010010204.000000         205        1 1.000000  \n",
       "2 20.000000   9.000000 200010010204.000000         205        1 2.000000  "
      ]
     },
     "execution_count": 187,
     "metadata": {},
     "output_type": "execute_result"
    }
   ],
   "source": [
    "df = pd.read_csv('data.csv', encoding = '1251')\n",
    "df.head(3)"
   ]
  },
  {
   "cell_type": "code",
   "execution_count": 188,
   "id": "9fd49e6a-0bc9-4c72-8de9-33c81ea6ce67",
   "metadata": {},
   "outputs": [],
   "source": [
    "pd.set_option('display.max_columns',21) # отображаем нужное количество столбцов в датафрейме "
   ]
  },
  {
   "cell_type": "code",
   "execution_count": 189,
   "id": "32ac4b1e-fe77-46e6-a032-a3624cc14071",
   "metadata": {},
   "outputs": [
    {
     "data": {
      "text/html": [
       "<div>\n",
       "<style scoped>\n",
       "    .dataframe tbody tr th:only-of-type {\n",
       "        vertical-align: middle;\n",
       "    }\n",
       "\n",
       "    .dataframe tbody tr th {\n",
       "        vertical-align: top;\n",
       "    }\n",
       "\n",
       "    .dataframe thead th {\n",
       "        text-align: right;\n",
       "    }\n",
       "</style>\n",
       "<table border=\"1\" class=\"dataframe\">\n",
       "  <thead>\n",
       "    <tr style=\"text-align: right;\">\n",
       "      <th></th>\n",
       "      <th>DR_Dat</th>\n",
       "      <th>DR_Tim</th>\n",
       "      <th>DR_NChk</th>\n",
       "      <th>DR_NDoc</th>\n",
       "      <th>DR_Apt</th>\n",
       "      <th>DR_Kkm</th>\n",
       "      <th>DR_TDoc</th>\n",
       "      <th>DR_TPay</th>\n",
       "      <th>DR_CDrugs</th>\n",
       "      <th>DR_NDrugs</th>\n",
       "      <th>DR_Suppl</th>\n",
       "      <th>DR_Prod</th>\n",
       "      <th>DR_Kol</th>\n",
       "      <th>DR_CZak</th>\n",
       "      <th>DR_CRoz</th>\n",
       "      <th>DR_SDisc</th>\n",
       "      <th>DR_CDisc</th>\n",
       "      <th>DR_BCDisc</th>\n",
       "      <th>DR_TabEmpl</th>\n",
       "      <th>DR_VZak</th>\n",
       "      <th>DR_Pos</th>\n",
       "    </tr>\n",
       "  </thead>\n",
       "  <tbody>\n",
       "    <tr>\n",
       "      <th>4459</th>\n",
       "      <td>2022-08-12</td>\n",
       "      <td>21:43:48</td>\n",
       "      <td>5692</td>\n",
       "      <td>18002542</td>\n",
       "      <td>18</td>\n",
       "      <td>9907</td>\n",
       "      <td>Розничная реализация</td>\n",
       "      <td>18</td>\n",
       "      <td>260990</td>\n",
       "      <td>СИЛДЕНАФИЛ-СЗ 50МГ. №10 ТАБ. П/П/О /СЕВЕРНАЯ З...</td>\n",
       "      <td>Авеста</td>\n",
       "      <td>Северная Звезда</td>\n",
       "      <td>1.000000</td>\n",
       "      <td>297.740000</td>\n",
       "      <td>396.000000</td>\n",
       "      <td>0.000000</td>\n",
       "      <td>NaN</td>\n",
       "      <td>NaN</td>\n",
       "      <td>48</td>\n",
       "      <td>1</td>\n",
       "      <td>1.000000</td>\n",
       "    </tr>\n",
       "    <tr>\n",
       "      <th>4460</th>\n",
       "      <td>2022-08-12</td>\n",
       "      <td>21:44:46</td>\n",
       "      <td>5693</td>\n",
       "      <td>18002542</td>\n",
       "      <td>18</td>\n",
       "      <td>9907</td>\n",
       "      <td>Розничная реализация</td>\n",
       "      <td>18</td>\n",
       "      <td>41512</td>\n",
       "      <td>ТОБРАЗОН 5МЛ. ГЛ.КАПЛИ ФЛ.</td>\n",
       "      <td>Катрен г.Химки</td>\n",
       "      <td>Кадила Фармасьютикалз Лтд  ( CADILA )</td>\n",
       "      <td>1.000000</td>\n",
       "      <td>322.060000</td>\n",
       "      <td>419.000000</td>\n",
       "      <td>0.000000</td>\n",
       "      <td>NaN</td>\n",
       "      <td>NaN</td>\n",
       "      <td>48</td>\n",
       "      <td>1</td>\n",
       "      <td>1.000000</td>\n",
       "    </tr>\n",
       "    <tr>\n",
       "      <th>4461</th>\n",
       "      <td>2022-08-12</td>\n",
       "      <td>21:46:08</td>\n",
       "      <td>5694</td>\n",
       "      <td>18002542</td>\n",
       "      <td>18</td>\n",
       "      <td>9907</td>\n",
       "      <td>Розничная реализация</td>\n",
       "      <td>15</td>\n",
       "      <td>25673</td>\n",
       "      <td>БЕЛЬВЕДЕР ЛАК П/ОБГРЫЗАНИЯ НОГТЕЙ 8МЛ. [BELWEDER]</td>\n",
       "      <td>Катрен г.Химки</td>\n",
       "      <td>BELWEDER NORD SIA</td>\n",
       "      <td>1.000000</td>\n",
       "      <td>238.620000</td>\n",
       "      <td>346.000000</td>\n",
       "      <td>34.000000</td>\n",
       "      <td>9.000000</td>\n",
       "      <td>200010027618.000000</td>\n",
       "      <td>48</td>\n",
       "      <td>1</td>\n",
       "      <td>1.000000</td>\n",
       "    </tr>\n",
       "  </tbody>\n",
       "</table>\n",
       "</div>"
      ],
      "text/plain": [
       "          DR_Dat    DR_Tim  DR_NChk   DR_NDoc  DR_Apt  DR_Kkm  \\\n",
       "4459  2022-08-12  21:43:48     5692  18002542      18    9907   \n",
       "4460  2022-08-12  21:44:46     5693  18002542      18    9907   \n",
       "4461  2022-08-12  21:46:08     5694  18002542      18    9907   \n",
       "\n",
       "                   DR_TDoc  DR_TPay  DR_CDrugs  \\\n",
       "4459  Розничная реализация       18     260990   \n",
       "4460  Розничная реализация       18      41512   \n",
       "4461  Розничная реализация       15      25673   \n",
       "\n",
       "                                              DR_NDrugs        DR_Suppl  \\\n",
       "4459  СИЛДЕНАФИЛ-СЗ 50МГ. №10 ТАБ. П/П/О /СЕВЕРНАЯ З...          Авеста   \n",
       "4460                         ТОБРАЗОН 5МЛ. ГЛ.КАПЛИ ФЛ.  Катрен г.Химки   \n",
       "4461  БЕЛЬВЕДЕР ЛАК П/ОБГРЫЗАНИЯ НОГТЕЙ 8МЛ. [BELWEDER]  Катрен г.Химки   \n",
       "\n",
       "                                    DR_Prod   DR_Kol    DR_CZak    DR_CRoz  \\\n",
       "4459                        Северная Звезда 1.000000 297.740000 396.000000   \n",
       "4460  Кадила Фармасьютикалз Лтд  ( CADILA ) 1.000000 322.060000 419.000000   \n",
       "4461                      BELWEDER NORD SIA 1.000000 238.620000 346.000000   \n",
       "\n",
       "      DR_SDisc  DR_CDisc           DR_BCDisc  DR_TabEmpl  DR_VZak   DR_Pos  \n",
       "4459  0.000000       NaN                 NaN          48        1 1.000000  \n",
       "4460  0.000000       NaN                 NaN          48        1 1.000000  \n",
       "4461 34.000000  9.000000 200010027618.000000          48        1 1.000000  "
      ]
     },
     "execution_count": 189,
     "metadata": {},
     "output_type": "execute_result"
    }
   ],
   "source": [
    "df.tail(3)"
   ]
  },
  {
   "cell_type": "code",
   "execution_count": 190,
   "id": "9b60eb8a-b067-4c84-9db0-c1410d4d8ec4",
   "metadata": {},
   "outputs": [
    {
     "data": {
      "text/plain": [
       "DR_Dat         object\n",
       "DR_Tim         object\n",
       "DR_NChk         int64\n",
       "DR_NDoc         int64\n",
       "DR_Apt          int64\n",
       "DR_Kkm          int64\n",
       "DR_TDoc        object\n",
       "DR_TPay         int64\n",
       "DR_CDrugs       int64\n",
       "DR_NDrugs      object\n",
       "DR_Suppl       object\n",
       "DR_Prod        object\n",
       "DR_Kol        float64\n",
       "DR_CZak       float64\n",
       "DR_CRoz       float64\n",
       "DR_SDisc      float64\n",
       "DR_CDisc      float64\n",
       "DR_BCDisc     float64\n",
       "DR_TabEmpl      int64\n",
       "DR_VZak         int64\n",
       "DR_Pos        float64\n",
       "dtype: object"
      ]
     },
     "execution_count": 190,
     "metadata": {},
     "output_type": "execute_result"
    }
   ],
   "source": [
    "df.dtypes # отображает ти данных в столбце"
   ]
  },
  {
   "cell_type": "markdown",
   "id": "0f017762-33b3-4453-8ab8-dfd7636ec8fe",
   "metadata": {},
   "source": [
    "# 1.2 Манипуляции со столбцами"
   ]
  },
  {
   "cell_type": "code",
   "execution_count": 192,
   "id": "96f30ef8-896e-42c0-9d9a-21b4a547d9e0",
   "metadata": {},
   "outputs": [
    {
     "data": {
      "text/plain": [
       "Index(['DR_Dat', 'DR_Tim', 'DR_NChk', 'DR_NDoc', 'DR_Apt', 'DR_Kkm', 'DR_TDoc',\n",
       "       'DR_TPay', 'DR_CDrugs', 'DR_NDrugs', 'DR_Suppl', 'DR_Prod', 'DR_Kol',\n",
       "       'DR_CZak', 'DR_CRoz', 'DR_SDisc', 'DR_CDisc', 'DR_BCDisc', 'DR_TabEmpl',\n",
       "       'DR_VZak', 'DR_Pos'],\n",
       "      dtype='object')"
      ]
     },
     "execution_count": 192,
     "metadata": {},
     "output_type": "execute_result"
    }
   ],
   "source": [
    "df.columns # наименование всех столбцов датафрейма"
   ]
  },
  {
   "cell_type": "code",
   "execution_count": 193,
   "id": "208fc83a-495b-4a7a-8535-f3e119f24b68",
   "metadata": {},
   "outputs": [],
   "source": [
    "our_col = ['DR_Dat', 'DR_Tim', 'DR_NChk', 'DR_NDoc', 'DR_Kol','DR_CZak', 'DR_CRoz', 'DR_SDisc', 'DR_CDisc',  'DR_Apt', 'DR_NDrugs', 'DR_TPay', \n",
    "           'DR_CDrugs', 'DR_Suppl', 'DR_BCDisc', 'DR_TabEmpl','DR_VZak', 'DR_Pos']"
   ]
  },
  {
   "cell_type": "code",
   "execution_count": 194,
   "id": "71c64a82-ec10-4b0f-a4d8-d16a08a6d7f3",
   "metadata": {},
   "outputs": [],
   "source": [
    "df = df[our_col]"
   ]
  },
  {
   "cell_type": "code",
   "execution_count": 195,
   "id": "3a0fb794-37e8-47c2-8100-690e80aa53ae",
   "metadata": {},
   "outputs": [
    {
     "data": {
      "text/html": [
       "<div>\n",
       "<style scoped>\n",
       "    .dataframe tbody tr th:only-of-type {\n",
       "        vertical-align: middle;\n",
       "    }\n",
       "\n",
       "    .dataframe tbody tr th {\n",
       "        vertical-align: top;\n",
       "    }\n",
       "\n",
       "    .dataframe thead th {\n",
       "        text-align: right;\n",
       "    }\n",
       "</style>\n",
       "<table border=\"1\" class=\"dataframe\">\n",
       "  <thead>\n",
       "    <tr style=\"text-align: right;\">\n",
       "      <th></th>\n",
       "      <th>date_purchase</th>\n",
       "      <th>time_purchase</th>\n",
       "      <th>num_chk</th>\n",
       "      <th>n_doc</th>\n",
       "      <th>kol</th>\n",
       "      <th>c_zak</th>\n",
       "      <th>c_roz</th>\n",
       "      <th>s_disc</th>\n",
       "      <th>c_disc</th>\n",
       "      <th>apteka</th>\n",
       "      <th>drug</th>\n",
       "      <th>t_pay</th>\n",
       "      <th>c_drugs</th>\n",
       "      <th>suppl</th>\n",
       "      <th>bc_disc</th>\n",
       "      <th>tabEmpl</th>\n",
       "      <th>v_zak</th>\n",
       "      <th>pos</th>\n",
       "    </tr>\n",
       "  </thead>\n",
       "  <tbody>\n",
       "    <tr>\n",
       "      <th>0</th>\n",
       "      <td>2022-08-11</td>\n",
       "      <td>10:15:35</td>\n",
       "      <td>2173</td>\n",
       "      <td>2004598</td>\n",
       "      <td>1.000000</td>\n",
       "      <td>41.080000</td>\n",
       "      <td>51.000000</td>\n",
       "      <td>12.000000</td>\n",
       "      <td>925.000000</td>\n",
       "      <td>2</td>\n",
       "      <td>ЦИПРОЛЕТ 3МГ/МЛ. 5МЛ. №1 ГЛ.КАПЛИ ФЛ./КАП. /Д-...</td>\n",
       "      <td>18</td>\n",
       "      <td>45399</td>\n",
       "      <td>Катрен г.Химки</td>\n",
       "      <td>200000000492.000000</td>\n",
       "      <td>205</td>\n",
       "      <td>1</td>\n",
       "      <td>1.000000</td>\n",
       "    </tr>\n",
       "    <tr>\n",
       "      <th>1</th>\n",
       "      <td>2022-08-11</td>\n",
       "      <td>10:27:46</td>\n",
       "      <td>2174</td>\n",
       "      <td>2004598</td>\n",
       "      <td>1.000000</td>\n",
       "      <td>18.610000</td>\n",
       "      <td>31.000000</td>\n",
       "      <td>3.000000</td>\n",
       "      <td>9.000000</td>\n",
       "      <td>2</td>\n",
       "      <td>ПЕРЕКИСЬ ВОДОРОДА 3% 100МЛ. №40 Р-Р ФЛ.</td>\n",
       "      <td>15</td>\n",
       "      <td>261519</td>\n",
       "      <td>Катрен г.Химки</td>\n",
       "      <td>200010010204.000000</td>\n",
       "      <td>205</td>\n",
       "      <td>1</td>\n",
       "      <td>1.000000</td>\n",
       "    </tr>\n",
       "    <tr>\n",
       "      <th>2</th>\n",
       "      <td>2022-08-11</td>\n",
       "      <td>10:27:46</td>\n",
       "      <td>2174</td>\n",
       "      <td>2004598</td>\n",
       "      <td>1.000000</td>\n",
       "      <td>132.690000</td>\n",
       "      <td>209.000000</td>\n",
       "      <td>20.000000</td>\n",
       "      <td>9.000000</td>\n",
       "      <td>2</td>\n",
       "      <td>СОФЬЯ ГЕЛЬ Д/НОГ ВЕНОТОНИЗ. ТРОКСЕРУТИН ФОРТЕ ...</td>\n",
       "      <td>15</td>\n",
       "      <td>460864</td>\n",
       "      <td>Катрен г.Химки</td>\n",
       "      <td>200010010204.000000</td>\n",
       "      <td>205</td>\n",
       "      <td>1</td>\n",
       "      <td>2.000000</td>\n",
       "    </tr>\n",
       "    <tr>\n",
       "      <th>3</th>\n",
       "      <td>2022-08-11</td>\n",
       "      <td>10:27:46</td>\n",
       "      <td>2174</td>\n",
       "      <td>2004598</td>\n",
       "      <td>1.000000</td>\n",
       "      <td>133.650000</td>\n",
       "      <td>210.000000</td>\n",
       "      <td>21.000000</td>\n",
       "      <td>9.000000</td>\n",
       "      <td>2</td>\n",
       "      <td>СОФЬЯ ГХК КРЕМ Д/ТЕЛА ХОНДРОИТИН+ГЛЮКОЗАМИН 12...</td>\n",
       "      <td>15</td>\n",
       "      <td>172823</td>\n",
       "      <td>Катрен г.Химки</td>\n",
       "      <td>200010010204.000000</td>\n",
       "      <td>205</td>\n",
       "      <td>1</td>\n",
       "      <td>3.000000</td>\n",
       "    </tr>\n",
       "    <tr>\n",
       "      <th>4</th>\n",
       "      <td>2022-08-11</td>\n",
       "      <td>10:33:56</td>\n",
       "      <td>2175</td>\n",
       "      <td>2004598</td>\n",
       "      <td>1.000000</td>\n",
       "      <td>709.950000</td>\n",
       "      <td>787.000000</td>\n",
       "      <td>49.000000</td>\n",
       "      <td>925.000000</td>\n",
       "      <td>2</td>\n",
       "      <td>ГАЛВУС 50МГ. №28 ТАБ. /НОВАРТИС/</td>\n",
       "      <td>18</td>\n",
       "      <td>79056</td>\n",
       "      <td>Катрен г.Химки</td>\n",
       "      <td>200000000492.000000</td>\n",
       "      <td>205</td>\n",
       "      <td>1</td>\n",
       "      <td>1.000000</td>\n",
       "    </tr>\n",
       "  </tbody>\n",
       "</table>\n",
       "</div>"
      ],
      "text/plain": [
       "  date_purchase time_purchase  num_chk    n_doc      kol      c_zak  \\\n",
       "0    2022-08-11      10:15:35     2173  2004598 1.000000  41.080000   \n",
       "1    2022-08-11      10:27:46     2174  2004598 1.000000  18.610000   \n",
       "2    2022-08-11      10:27:46     2174  2004598 1.000000 132.690000   \n",
       "3    2022-08-11      10:27:46     2174  2004598 1.000000 133.650000   \n",
       "4    2022-08-11      10:33:56     2175  2004598 1.000000 709.950000   \n",
       "\n",
       "       c_roz    s_disc     c_disc  apteka  \\\n",
       "0  51.000000 12.000000 925.000000       2   \n",
       "1  31.000000  3.000000   9.000000       2   \n",
       "2 209.000000 20.000000   9.000000       2   \n",
       "3 210.000000 21.000000   9.000000       2   \n",
       "4 787.000000 49.000000 925.000000       2   \n",
       "\n",
       "                                                drug  t_pay  c_drugs  \\\n",
       "0  ЦИПРОЛЕТ 3МГ/МЛ. 5МЛ. №1 ГЛ.КАПЛИ ФЛ./КАП. /Д-...     18    45399   \n",
       "1            ПЕРЕКИСЬ ВОДОРОДА 3% 100МЛ. №40 Р-Р ФЛ.     15   261519   \n",
       "2  СОФЬЯ ГЕЛЬ Д/НОГ ВЕНОТОНИЗ. ТРОКСЕРУТИН ФОРТЕ ...     15   460864   \n",
       "3  СОФЬЯ ГХК КРЕМ Д/ТЕЛА ХОНДРОИТИН+ГЛЮКОЗАМИН 12...     15   172823   \n",
       "4                   ГАЛВУС 50МГ. №28 ТАБ. /НОВАРТИС/     18    79056   \n",
       "\n",
       "            suppl             bc_disc  tabEmpl  v_zak      pos  \n",
       "0  Катрен г.Химки 200000000492.000000      205      1 1.000000  \n",
       "1  Катрен г.Химки 200010010204.000000      205      1 1.000000  \n",
       "2  Катрен г.Химки 200010010204.000000      205      1 2.000000  \n",
       "3  Катрен г.Химки 200010010204.000000      205      1 3.000000  \n",
       "4  Катрен г.Химки 200000000492.000000      205      1 1.000000  "
      ]
     },
     "execution_count": 195,
     "metadata": {},
     "output_type": "execute_result"
    }
   ],
   "source": [
    "df.columns = ['date_purchase', 'time_purchase', 'num_chk', 'n_doc', 'kol','c_zak', 'c_roz', 's_disc', 'c_disc',  'apteka', 'drug', 't_pay', \n",
    "           'c_drugs', 'suppl', 'bc_disc', 'tabEmpl','v_zak', 'pos'] # Меняем местами столбцы и переименовываем\n",
    "df.head()"
   ]
  },
  {
   "cell_type": "markdown",
   "id": "01acc8cd-b66e-4578-b476-b1cc7a468a00",
   "metadata": {},
   "source": [
    "# 1.3 Работа с типами данных"
   ]
  },
  {
   "cell_type": "code",
   "execution_count": 197,
   "id": "a7948a09-72b0-4d6f-a698-4f71fedf4b40",
   "metadata": {},
   "outputs": [],
   "source": [
    "df['bc_disc'] = df['bc_disc'].astype('str').replace('\\.0', '', regex=True) # для столбца bc_disc задаем тип str(строка) и убираем лишние нули"
   ]
  },
  {
   "cell_type": "code",
   "execution_count": 198,
   "id": "a275279f-59bf-416d-b1e6-02f94159f2d0",
   "metadata": {},
   "outputs": [],
   "source": [
    "#df['c_disc'] = df['c_disc'].astype('str').replace('\\.0', '', regex=True)"
   ]
  },
  {
   "cell_type": "code",
   "execution_count": 199,
   "id": "f6aae89f-f364-4c53-acb4-a62a87329f1a",
   "metadata": {},
   "outputs": [
    {
     "data": {
      "text/plain": [
       "0       2022\n",
       "1       2022\n",
       "2       2022\n",
       "3       2022\n",
       "4       2022\n",
       "        ... \n",
       "4457    2022\n",
       "4458    2022\n",
       "4459    2022\n",
       "4460    2022\n",
       "4461    2022\n",
       "Name: date_purchase, Length: 4462, dtype: int32"
      ]
     },
     "execution_count": 199,
     "metadata": {},
     "output_type": "execute_result"
    }
   ],
   "source": [
    "pd.to_datetime(df['date_purchase']).dt.year"
   ]
  },
  {
   "cell_type": "code",
   "execution_count": 200,
   "id": "536deda8-e51e-4cdd-93b2-90039a7e920e",
   "metadata": {},
   "outputs": [],
   "source": [
    "df['date_purchase'] = pd.to_datetime(df['date_purchase']).dt.strftime('%d.%m.%Y') # приводим дату к нужному yам формату"
   ]
  },
  {
   "cell_type": "code",
   "execution_count": 201,
   "id": "6952d6a6-ff61-4764-8d9a-b462df91005c",
   "metadata": {},
   "outputs": [
    {
     "data": {
      "text/plain": [
       "array([1, 2], dtype=int64)"
      ]
     },
     "execution_count": 201,
     "metadata": {},
     "output_type": "execute_result"
    }
   ],
   "source": [
    "df.v_zak.unique()"
   ]
  },
  {
   "cell_type": "code",
   "execution_count": 202,
   "id": "a1366e96-2516-4c03-b819-ea802451e84e",
   "metadata": {},
   "outputs": [],
   "source": [
    "df['v_zak'] = df['v_zak'].astype('str').replace('1', 'обычный').replace('2', 'интернет')"
   ]
  },
  {
   "cell_type": "markdown",
   "id": "981fc110-dfde-43e5-9995-ae2ef380a89a",
   "metadata": {},
   "source": [
    "# 1.4 Работа с пропусками"
   ]
  },
  {
   "cell_type": "code",
   "execution_count": 204,
   "id": "cbf468ae-8ff6-4614-9a3f-2b6a21a16cf7",
   "metadata": {},
   "outputs": [
    {
     "data": {
      "text/plain": [
       "date_purchase    False\n",
       "time_purchase    False\n",
       "num_chk          False\n",
       "n_doc            False\n",
       "kol              False\n",
       "c_zak            False\n",
       "c_roz            False\n",
       "s_disc           False\n",
       "c_disc            True\n",
       "apteka           False\n",
       "drug             False\n",
       "t_pay            False\n",
       "c_drugs          False\n",
       "suppl            False\n",
       "bc_disc          False\n",
       "tabEmpl          False\n",
       "v_zak            False\n",
       "pos              False\n",
       "dtype: bool"
      ]
     },
     "execution_count": 204,
     "metadata": {},
     "output_type": "execute_result"
    }
   ],
   "source": [
    "df.isna().any() # данные методы показывают наличие хотябы одного пропуска в столбце"
   ]
  },
  {
   "cell_type": "code",
   "execution_count": 230,
   "id": "631043a9-1bd8-4831-9273-8ce746b348d8",
   "metadata": {},
   "outputs": [
    {
     "data": {
      "text/plain": [
       "0      925.000000\n",
       "1        9.000000\n",
       "2        9.000000\n",
       "3        9.000000\n",
       "4      925.000000\n",
       "          ...    \n",
       "4457     0.000000\n",
       "4458     0.000000\n",
       "4459     0.000000\n",
       "4460     0.000000\n",
       "4461     9.000000\n",
       "Name: c_disc, Length: 4462, dtype: float64"
      ]
     },
     "execution_count": 230,
     "metadata": {},
     "output_type": "execute_result"
    }
   ],
   "source": [
    "df.c_disc.fillna(0)    # заменяем пропуски на 0     "
   ]
  },
  {
   "cell_type": "code",
   "execution_count": 232,
   "id": "e8c7a014-aaea-45dc-a224-b5cab4197646",
   "metadata": {},
   "outputs": [
    {
     "data": {
      "text/plain": [
       "0      925.000000\n",
       "1        9.000000\n",
       "2        9.000000\n",
       "3        9.000000\n",
       "4      925.000000\n",
       "          ...    \n",
       "4457     9.000000\n",
       "4458     9.000000\n",
       "4459     9.000000\n",
       "4460     9.000000\n",
       "4461     9.000000\n",
       "Name: c_disc, Length: 4462, dtype: float64"
      ]
     },
     "execution_count": 232,
     "metadata": {},
     "output_type": "execute_result"
    }
   ],
   "source": [
    "df.c_disc.interpolate(method='linear') # сособ заолнения пропусков расчетными значениями (соседнее значение, оегрессия и т.д.)"
   ]
  },
  {
   "cell_type": "code",
   "execution_count": 238,
   "id": "fa1fd8b9-c428-4256-9a0e-166e7741e2ce",
   "metadata": {},
   "outputs": [
    {
     "data": {
      "text/plain": [
       "(1765, 18)"
      ]
     },
     "execution_count": 238,
     "metadata": {},
     "output_type": "execute_result"
    }
   ],
   "source": [
    "df.dropna().shape # удаляет все строки, котрые содержат хотябы один пропуск"
   ]
  },
  {
   "cell_type": "code",
   "execution_count": 242,
   "id": "2689294e-85f6-452f-b3db-707bb8443c03",
   "metadata": {},
   "outputs": [
    {
     "data": {
      "text/plain": [
       "(4462, 17)"
      ]
     },
     "execution_count": 242,
     "metadata": {},
     "output_type": "execute_result"
    }
   ],
   "source": [
    "df.dropna(axis=1).shape # выбираем параметром axis=1, что удалять, строки или столбцы"
   ]
  }
 ],
 "metadata": {
  "kernelspec": {
   "display_name": "Python (myenv)",
   "language": "python",
   "name": "myenv"
  },
  "language_info": {
   "codemirror_mode": {
    "name": "ipython",
    "version": 3
   },
   "file_extension": ".py",
   "mimetype": "text/x-python",
   "name": "python",
   "nbconvert_exporter": "python",
   "pygments_lexer": "ipython3",
   "version": "3.8.20"
  }
 },
 "nbformat": 4,
 "nbformat_minor": 5
}
